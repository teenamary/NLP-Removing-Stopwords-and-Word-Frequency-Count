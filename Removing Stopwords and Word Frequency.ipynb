{
  "nbformat": 4,
  "nbformat_minor": 0,
  "metadata": {
    "colab": {
      "name": "1948058_NLP_Lab2",
      "provenance": [],
      "collapsed_sections": []
    },
    "kernelspec": {
      "name": "python3",
      "display_name": "Python 3"
    }
  },
  "cells": [
    {
      "cell_type": "markdown",
      "metadata": {
        "id": "GLuB7Vb04Vsz",
        "colab_type": "text"
      },
      "source": [
        "# **Q. Write a program to count word frequency and to remove stop words**"
      ]
    },
    {
      "cell_type": "markdown",
      "metadata": {
        "id": "Ny2KY_T17iq4",
        "colab_type": "text"
      },
      "source": [
        "## (a) Counting word frequency"
      ]
    },
    {
      "cell_type": "markdown",
      "metadata": {
        "id": "KHbrI4DEAs9I",
        "colab_type": "text"
      },
      "source": [
        "### 1. Using general method"
      ]
    },
    {
      "cell_type": "code",
      "metadata": {
        "id": "5hAyRdq2-Zx-",
        "colab_type": "code",
        "colab": {
          "base_uri": "https://localhost:8080/",
          "height": 228
        },
        "outputId": "91f6cfd6-ded0-447f-b09e-6f3cbd0dda4a"
      },
      "source": [
        "string = 'Simply put, a blog is a tool that can help develop an online presence, attract leads, and engage with an audience. It is often a series of editorial content centered around a central topic that demonstrates industry expertise -- for instance, a catering company might write blog posts like \"The 11 Best Appetizers to Serve to a Crowd\" or \"Stress-Free Dinner Parties: Recipes that are Prepared Ahead of Time\". Blogs can help drive traffic to your website, convert that traffic into leads, establish authority in your industry, and ultimately grow your business. In fact, organizations are 13x more likely to see positive ROI by prioritizing blogging. Most of a blog traffic is driven organically -- in other words, consumers will search for something on a search engine and click on your blog if it matches their intended topic. However, there are a lot of organizations competing for your audiences attention, so it is important to avoid common blog mistakes to stand out.'\n",
        "\n",
        "wlist = string.split()\n",
        "\n",
        "wordfreq = []\n",
        "for w in wlist:\n",
        "    wordfreq.append(wlist.count(w))\n",
        "\n",
        "print(\"String\\n\" + string +\"\\n\")\n",
        "print(\"List\\n\" + str(wlist) + \"\\n\")\n",
        "print(\"Frequencies\\n\" + str(wordfreq) + \"\\n\")\n",
        "print(\"Pairs\\n\" + str(list(zip(wlist, wordfreq))))"
      ],
      "execution_count": 1,
      "outputs": [
        {
          "output_type": "stream",
          "text": [
            "String\n",
            "Simply put, a blog is a tool that can help develop an online presence, attract leads, and engage with an audience. It is often a series of editorial content centered around a central topic that demonstrates industry expertise -- for instance, a catering company might write blog posts like \"The 11 Best Appetizers to Serve to a Crowd\" or \"Stress-Free Dinner Parties: Recipes that are Prepared Ahead of Time\". Blogs can help drive traffic to your website, convert that traffic into leads, establish authority in your industry, and ultimately grow your business. In fact, organizations are 13x more likely to see positive ROI by prioritizing blogging. Most of a blog traffic is driven organically -- in other words, consumers will search for something on a search engine and click on your blog if it matches their intended topic. However, there are a lot of organizations competing for your audiences attention, so it is important to avoid common blog mistakes to stand out.\n",
            "\n",
            "List\n",
            "['Simply', 'put,', 'a', 'blog', 'is', 'a', 'tool', 'that', 'can', 'help', 'develop', 'an', 'online', 'presence,', 'attract', 'leads,', 'and', 'engage', 'with', 'an', 'audience.', 'It', 'is', 'often', 'a', 'series', 'of', 'editorial', 'content', 'centered', 'around', 'a', 'central', 'topic', 'that', 'demonstrates', 'industry', 'expertise', '--', 'for', 'instance,', 'a', 'catering', 'company', 'might', 'write', 'blog', 'posts', 'like', '\"The', '11', 'Best', 'Appetizers', 'to', 'Serve', 'to', 'a', 'Crowd\"', 'or', '\"Stress-Free', 'Dinner', 'Parties:', 'Recipes', 'that', 'are', 'Prepared', 'Ahead', 'of', 'Time\".', 'Blogs', 'can', 'help', 'drive', 'traffic', 'to', 'your', 'website,', 'convert', 'that', 'traffic', 'into', 'leads,', 'establish', 'authority', 'in', 'your', 'industry,', 'and', 'ultimately', 'grow', 'your', 'business.', 'In', 'fact,', 'organizations', 'are', '13x', 'more', 'likely', 'to', 'see', 'positive', 'ROI', 'by', 'prioritizing', 'blogging.', 'Most', 'of', 'a', 'blog', 'traffic', 'is', 'driven', 'organically', '--', 'in', 'other', 'words,', 'consumers', 'will', 'search', 'for', 'something', 'on', 'a', 'search', 'engine', 'and', 'click', 'on', 'your', 'blog', 'if', 'it', 'matches', 'their', 'intended', 'topic.', 'However,', 'there', 'are', 'a', 'lot', 'of', 'organizations', 'competing', 'for', 'your', 'audiences', 'attention,', 'so', 'it', 'is', 'important', 'to', 'avoid', 'common', 'blog', 'mistakes', 'to', 'stand', 'out.']\n",
            "\n",
            "Frequencies\n",
            "[1, 1, 9, 5, 4, 9, 1, 4, 2, 2, 1, 2, 1, 1, 1, 2, 3, 1, 1, 2, 1, 1, 4, 1, 9, 1, 4, 1, 1, 1, 1, 9, 1, 1, 4, 1, 1, 1, 2, 3, 1, 9, 1, 1, 1, 1, 5, 1, 1, 1, 1, 1, 1, 6, 1, 6, 9, 1, 1, 1, 1, 1, 1, 4, 3, 1, 1, 4, 1, 1, 2, 2, 1, 3, 6, 5, 1, 1, 4, 3, 1, 2, 1, 1, 2, 5, 1, 3, 1, 1, 5, 1, 1, 1, 2, 3, 1, 1, 1, 6, 1, 1, 1, 1, 1, 1, 1, 4, 9, 5, 3, 4, 1, 1, 2, 2, 1, 1, 1, 1, 2, 3, 1, 2, 9, 2, 1, 3, 1, 2, 5, 5, 1, 2, 1, 1, 1, 1, 1, 1, 3, 9, 1, 4, 2, 1, 3, 5, 1, 1, 1, 2, 4, 1, 6, 1, 1, 5, 1, 6, 1, 1]\n",
            "\n",
            "Pairs\n",
            "[('Simply', 1), ('put,', 1), ('a', 9), ('blog', 5), ('is', 4), ('a', 9), ('tool', 1), ('that', 4), ('can', 2), ('help', 2), ('develop', 1), ('an', 2), ('online', 1), ('presence,', 1), ('attract', 1), ('leads,', 2), ('and', 3), ('engage', 1), ('with', 1), ('an', 2), ('audience.', 1), ('It', 1), ('is', 4), ('often', 1), ('a', 9), ('series', 1), ('of', 4), ('editorial', 1), ('content', 1), ('centered', 1), ('around', 1), ('a', 9), ('central', 1), ('topic', 1), ('that', 4), ('demonstrates', 1), ('industry', 1), ('expertise', 1), ('--', 2), ('for', 3), ('instance,', 1), ('a', 9), ('catering', 1), ('company', 1), ('might', 1), ('write', 1), ('blog', 5), ('posts', 1), ('like', 1), ('\"The', 1), ('11', 1), ('Best', 1), ('Appetizers', 1), ('to', 6), ('Serve', 1), ('to', 6), ('a', 9), ('Crowd\"', 1), ('or', 1), ('\"Stress-Free', 1), ('Dinner', 1), ('Parties:', 1), ('Recipes', 1), ('that', 4), ('are', 3), ('Prepared', 1), ('Ahead', 1), ('of', 4), ('Time\".', 1), ('Blogs', 1), ('can', 2), ('help', 2), ('drive', 1), ('traffic', 3), ('to', 6), ('your', 5), ('website,', 1), ('convert', 1), ('that', 4), ('traffic', 3), ('into', 1), ('leads,', 2), ('establish', 1), ('authority', 1), ('in', 2), ('your', 5), ('industry,', 1), ('and', 3), ('ultimately', 1), ('grow', 1), ('your', 5), ('business.', 1), ('In', 1), ('fact,', 1), ('organizations', 2), ('are', 3), ('13x', 1), ('more', 1), ('likely', 1), ('to', 6), ('see', 1), ('positive', 1), ('ROI', 1), ('by', 1), ('prioritizing', 1), ('blogging.', 1), ('Most', 1), ('of', 4), ('a', 9), ('blog', 5), ('traffic', 3), ('is', 4), ('driven', 1), ('organically', 1), ('--', 2), ('in', 2), ('other', 1), ('words,', 1), ('consumers', 1), ('will', 1), ('search', 2), ('for', 3), ('something', 1), ('on', 2), ('a', 9), ('search', 2), ('engine', 1), ('and', 3), ('click', 1), ('on', 2), ('your', 5), ('blog', 5), ('if', 1), ('it', 2), ('matches', 1), ('their', 1), ('intended', 1), ('topic.', 1), ('However,', 1), ('there', 1), ('are', 3), ('a', 9), ('lot', 1), ('of', 4), ('organizations', 2), ('competing', 1), ('for', 3), ('your', 5), ('audiences', 1), ('attention,', 1), ('so', 1), ('it', 2), ('is', 4), ('important', 1), ('to', 6), ('avoid', 1), ('common', 1), ('blog', 5), ('mistakes', 1), ('to', 6), ('stand', 1), ('out.', 1)]\n"
          ],
          "name": "stdout"
        }
      ]
    },
    {
      "cell_type": "markdown",
      "metadata": {
        "id": "jXy1AC8j-a6g",
        "colab_type": "text"
      },
      "source": [
        "There was always something that interested me in learning new things. I liked what the unknown had to offer. The pearl of wisdom hidden in the oyster of ignorance always plunged man into the state of arrogance and blindness."
      ]
    },
    {
      "cell_type": "markdown",
      "metadata": {
        "id": "4606-ycOAz0C",
        "colab_type": "text"
      },
      "source": [
        "### 2. Using NLTK"
      ]
    },
    {
      "cell_type": "code",
      "metadata": {
        "id": "obwx_VYN_5jS",
        "colab_type": "code",
        "colab": {
          "base_uri": "https://localhost:8080/",
          "height": 1000
        },
        "outputId": "92fbcfaf-4e7a-4a67-8bde-3e08d6eb9c8d"
      },
      "source": [
        "import nltk\n",
        "nltk.download('all')"
      ],
      "execution_count": 2,
      "outputs": [
        {
          "output_type": "stream",
          "text": [
            "[nltk_data] Downloading collection 'all'\n",
            "[nltk_data]    | \n",
            "[nltk_data]    | Downloading package abc to /root/nltk_data...\n",
            "[nltk_data]    |   Package abc is already up-to-date!\n",
            "[nltk_data]    | Downloading package alpino to /root/nltk_data...\n",
            "[nltk_data]    |   Package alpino is already up-to-date!\n",
            "[nltk_data]    | Downloading package biocreative_ppi to\n",
            "[nltk_data]    |     /root/nltk_data...\n",
            "[nltk_data]    |   Package biocreative_ppi is already up-to-date!\n",
            "[nltk_data]    | Downloading package brown to /root/nltk_data...\n",
            "[nltk_data]    |   Package brown is already up-to-date!\n",
            "[nltk_data]    | Downloading package brown_tei to /root/nltk_data...\n",
            "[nltk_data]    |   Package brown_tei is already up-to-date!\n",
            "[nltk_data]    | Downloading package cess_cat to /root/nltk_data...\n",
            "[nltk_data]    |   Package cess_cat is already up-to-date!\n",
            "[nltk_data]    | Downloading package cess_esp to /root/nltk_data...\n",
            "[nltk_data]    |   Package cess_esp is already up-to-date!\n",
            "[nltk_data]    | Downloading package chat80 to /root/nltk_data...\n",
            "[nltk_data]    |   Package chat80 is already up-to-date!\n",
            "[nltk_data]    | Downloading package city_database to\n",
            "[nltk_data]    |     /root/nltk_data...\n",
            "[nltk_data]    |   Package city_database is already up-to-date!\n",
            "[nltk_data]    | Downloading package cmudict to /root/nltk_data...\n",
            "[nltk_data]    |   Package cmudict is already up-to-date!\n",
            "[nltk_data]    | Downloading package comparative_sentences to\n",
            "[nltk_data]    |     /root/nltk_data...\n",
            "[nltk_data]    |   Package comparative_sentences is already up-to-\n",
            "[nltk_data]    |       date!\n",
            "[nltk_data]    | Downloading package comtrans to /root/nltk_data...\n",
            "[nltk_data]    |   Package comtrans is already up-to-date!\n",
            "[nltk_data]    | Downloading package conll2000 to /root/nltk_data...\n",
            "[nltk_data]    |   Package conll2000 is already up-to-date!\n",
            "[nltk_data]    | Downloading package conll2002 to /root/nltk_data...\n",
            "[nltk_data]    |   Package conll2002 is already up-to-date!\n",
            "[nltk_data]    | Downloading package conll2007 to /root/nltk_data...\n",
            "[nltk_data]    |   Package conll2007 is already up-to-date!\n",
            "[nltk_data]    | Downloading package crubadan to /root/nltk_data...\n",
            "[nltk_data]    |   Package crubadan is already up-to-date!\n",
            "[nltk_data]    | Downloading package dependency_treebank to\n",
            "[nltk_data]    |     /root/nltk_data...\n",
            "[nltk_data]    |   Package dependency_treebank is already up-to-date!\n",
            "[nltk_data]    | Downloading package dolch to /root/nltk_data...\n",
            "[nltk_data]    |   Package dolch is already up-to-date!\n",
            "[nltk_data]    | Downloading package europarl_raw to\n",
            "[nltk_data]    |     /root/nltk_data...\n",
            "[nltk_data]    |   Package europarl_raw is already up-to-date!\n",
            "[nltk_data]    | Downloading package floresta to /root/nltk_data...\n",
            "[nltk_data]    |   Package floresta is already up-to-date!\n",
            "[nltk_data]    | Downloading package framenet_v15 to\n",
            "[nltk_data]    |     /root/nltk_data...\n",
            "[nltk_data]    |   Package framenet_v15 is already up-to-date!\n",
            "[nltk_data]    | Downloading package framenet_v17 to\n",
            "[nltk_data]    |     /root/nltk_data...\n",
            "[nltk_data]    |   Package framenet_v17 is already up-to-date!\n",
            "[nltk_data]    | Downloading package gazetteers to /root/nltk_data...\n",
            "[nltk_data]    |   Package gazetteers is already up-to-date!\n",
            "[nltk_data]    | Downloading package genesis to /root/nltk_data...\n",
            "[nltk_data]    |   Package genesis is already up-to-date!\n",
            "[nltk_data]    | Downloading package gutenberg to /root/nltk_data...\n",
            "[nltk_data]    |   Package gutenberg is already up-to-date!\n",
            "[nltk_data]    | Downloading package ieer to /root/nltk_data...\n",
            "[nltk_data]    |   Package ieer is already up-to-date!\n",
            "[nltk_data]    | Downloading package inaugural to /root/nltk_data...\n",
            "[nltk_data]    |   Package inaugural is already up-to-date!\n",
            "[nltk_data]    | Downloading package indian to /root/nltk_data...\n",
            "[nltk_data]    |   Package indian is already up-to-date!\n",
            "[nltk_data]    | Downloading package jeita to /root/nltk_data...\n",
            "[nltk_data]    |   Package jeita is already up-to-date!\n",
            "[nltk_data]    | Downloading package kimmo to /root/nltk_data...\n",
            "[nltk_data]    |   Package kimmo is already up-to-date!\n",
            "[nltk_data]    | Downloading package knbc to /root/nltk_data...\n",
            "[nltk_data]    |   Package knbc is already up-to-date!\n",
            "[nltk_data]    | Downloading package lin_thesaurus to\n",
            "[nltk_data]    |     /root/nltk_data...\n",
            "[nltk_data]    |   Package lin_thesaurus is already up-to-date!\n",
            "[nltk_data]    | Downloading package mac_morpho to /root/nltk_data...\n",
            "[nltk_data]    |   Package mac_morpho is already up-to-date!\n",
            "[nltk_data]    | Downloading package machado to /root/nltk_data...\n",
            "[nltk_data]    |   Package machado is already up-to-date!\n",
            "[nltk_data]    | Downloading package masc_tagged to /root/nltk_data...\n",
            "[nltk_data]    |   Package masc_tagged is already up-to-date!\n",
            "[nltk_data]    | Downloading package moses_sample to\n",
            "[nltk_data]    |     /root/nltk_data...\n",
            "[nltk_data]    |   Package moses_sample is already up-to-date!\n",
            "[nltk_data]    | Downloading package movie_reviews to\n",
            "[nltk_data]    |     /root/nltk_data...\n",
            "[nltk_data]    |   Package movie_reviews is already up-to-date!\n",
            "[nltk_data]    | Downloading package names to /root/nltk_data...\n",
            "[nltk_data]    |   Package names is already up-to-date!\n",
            "[nltk_data]    | Downloading package nombank.1.0 to /root/nltk_data...\n",
            "[nltk_data]    |   Package nombank.1.0 is already up-to-date!\n",
            "[nltk_data]    | Downloading package nps_chat to /root/nltk_data...\n",
            "[nltk_data]    |   Package nps_chat is already up-to-date!\n",
            "[nltk_data]    | Downloading package omw to /root/nltk_data...\n",
            "[nltk_data]    |   Package omw is already up-to-date!\n",
            "[nltk_data]    | Downloading package opinion_lexicon to\n",
            "[nltk_data]    |     /root/nltk_data...\n",
            "[nltk_data]    |   Package opinion_lexicon is already up-to-date!\n",
            "[nltk_data]    | Downloading package paradigms to /root/nltk_data...\n",
            "[nltk_data]    |   Package paradigms is already up-to-date!\n",
            "[nltk_data]    | Downloading package pil to /root/nltk_data...\n",
            "[nltk_data]    |   Package pil is already up-to-date!\n",
            "[nltk_data]    | Downloading package pl196x to /root/nltk_data...\n",
            "[nltk_data]    |   Package pl196x is already up-to-date!\n",
            "[nltk_data]    | Downloading package ppattach to /root/nltk_data...\n",
            "[nltk_data]    |   Package ppattach is already up-to-date!\n",
            "[nltk_data]    | Downloading package problem_reports to\n",
            "[nltk_data]    |     /root/nltk_data...\n",
            "[nltk_data]    |   Package problem_reports is already up-to-date!\n",
            "[nltk_data]    | Downloading package propbank to /root/nltk_data...\n",
            "[nltk_data]    |   Package propbank is already up-to-date!\n",
            "[nltk_data]    | Downloading package ptb to /root/nltk_data...\n",
            "[nltk_data]    |   Package ptb is already up-to-date!\n",
            "[nltk_data]    | Downloading package product_reviews_1 to\n",
            "[nltk_data]    |     /root/nltk_data...\n",
            "[nltk_data]    |   Package product_reviews_1 is already up-to-date!\n",
            "[nltk_data]    | Downloading package product_reviews_2 to\n",
            "[nltk_data]    |     /root/nltk_data...\n",
            "[nltk_data]    |   Package product_reviews_2 is already up-to-date!\n",
            "[nltk_data]    | Downloading package pros_cons to /root/nltk_data...\n",
            "[nltk_data]    |   Package pros_cons is already up-to-date!\n",
            "[nltk_data]    | Downloading package qc to /root/nltk_data...\n",
            "[nltk_data]    |   Package qc is already up-to-date!\n",
            "[nltk_data]    | Downloading package reuters to /root/nltk_data...\n",
            "[nltk_data]    |   Package reuters is already up-to-date!\n",
            "[nltk_data]    | Downloading package rte to /root/nltk_data...\n",
            "[nltk_data]    |   Package rte is already up-to-date!\n",
            "[nltk_data]    | Downloading package semcor to /root/nltk_data...\n",
            "[nltk_data]    |   Package semcor is already up-to-date!\n",
            "[nltk_data]    | Downloading package senseval to /root/nltk_data...\n",
            "[nltk_data]    |   Package senseval is already up-to-date!\n",
            "[nltk_data]    | Downloading package sentiwordnet to\n",
            "[nltk_data]    |     /root/nltk_data...\n",
            "[nltk_data]    |   Package sentiwordnet is already up-to-date!\n",
            "[nltk_data]    | Downloading package sentence_polarity to\n",
            "[nltk_data]    |     /root/nltk_data...\n",
            "[nltk_data]    |   Package sentence_polarity is already up-to-date!\n",
            "[nltk_data]    | Downloading package shakespeare to /root/nltk_data...\n",
            "[nltk_data]    |   Package shakespeare is already up-to-date!\n",
            "[nltk_data]    | Downloading package sinica_treebank to\n",
            "[nltk_data]    |     /root/nltk_data...\n",
            "[nltk_data]    |   Package sinica_treebank is already up-to-date!\n",
            "[nltk_data]    | Downloading package smultron to /root/nltk_data...\n",
            "[nltk_data]    |   Package smultron is already up-to-date!\n",
            "[nltk_data]    | Downloading package state_union to /root/nltk_data...\n",
            "[nltk_data]    |   Package state_union is already up-to-date!\n",
            "[nltk_data]    | Downloading package stopwords to /root/nltk_data...\n",
            "[nltk_data]    |   Package stopwords is already up-to-date!\n",
            "[nltk_data]    | Downloading package subjectivity to\n",
            "[nltk_data]    |     /root/nltk_data...\n",
            "[nltk_data]    |   Package subjectivity is already up-to-date!\n",
            "[nltk_data]    | Downloading package swadesh to /root/nltk_data...\n",
            "[nltk_data]    |   Package swadesh is already up-to-date!\n",
            "[nltk_data]    | Downloading package switchboard to /root/nltk_data...\n",
            "[nltk_data]    |   Package switchboard is already up-to-date!\n",
            "[nltk_data]    | Downloading package timit to /root/nltk_data...\n",
            "[nltk_data]    |   Package timit is already up-to-date!\n",
            "[nltk_data]    | Downloading package toolbox to /root/nltk_data...\n",
            "[nltk_data]    |   Package toolbox is already up-to-date!\n",
            "[nltk_data]    | Downloading package treebank to /root/nltk_data...\n",
            "[nltk_data]    |   Package treebank is already up-to-date!\n",
            "[nltk_data]    | Downloading package twitter_samples to\n",
            "[nltk_data]    |     /root/nltk_data...\n",
            "[nltk_data]    |   Package twitter_samples is already up-to-date!\n",
            "[nltk_data]    | Downloading package udhr to /root/nltk_data...\n",
            "[nltk_data]    |   Package udhr is already up-to-date!\n",
            "[nltk_data]    | Downloading package udhr2 to /root/nltk_data...\n",
            "[nltk_data]    |   Package udhr2 is already up-to-date!\n",
            "[nltk_data]    | Downloading package unicode_samples to\n",
            "[nltk_data]    |     /root/nltk_data...\n",
            "[nltk_data]    |   Package unicode_samples is already up-to-date!\n",
            "[nltk_data]    | Downloading package universal_treebanks_v20 to\n",
            "[nltk_data]    |     /root/nltk_data...\n",
            "[nltk_data]    |   Package universal_treebanks_v20 is already up-to-\n",
            "[nltk_data]    |       date!\n",
            "[nltk_data]    | Downloading package verbnet to /root/nltk_data...\n",
            "[nltk_data]    |   Package verbnet is already up-to-date!\n",
            "[nltk_data]    | Downloading package verbnet3 to /root/nltk_data...\n",
            "[nltk_data]    |   Package verbnet3 is already up-to-date!\n",
            "[nltk_data]    | Downloading package webtext to /root/nltk_data...\n",
            "[nltk_data]    |   Package webtext is already up-to-date!\n",
            "[nltk_data]    | Downloading package wordnet to /root/nltk_data...\n",
            "[nltk_data]    |   Package wordnet is already up-to-date!\n",
            "[nltk_data]    | Downloading package wordnet_ic to /root/nltk_data...\n",
            "[nltk_data]    |   Package wordnet_ic is already up-to-date!\n",
            "[nltk_data]    | Downloading package words to /root/nltk_data...\n",
            "[nltk_data]    |   Package words is already up-to-date!\n",
            "[nltk_data]    | Downloading package ycoe to /root/nltk_data...\n",
            "[nltk_data]    |   Package ycoe is already up-to-date!\n",
            "[nltk_data]    | Downloading package rslp to /root/nltk_data...\n",
            "[nltk_data]    |   Package rslp is already up-to-date!\n",
            "[nltk_data]    | Downloading package maxent_treebank_pos_tagger to\n",
            "[nltk_data]    |     /root/nltk_data...\n",
            "[nltk_data]    |   Package maxent_treebank_pos_tagger is already up-\n",
            "[nltk_data]    |       to-date!\n",
            "[nltk_data]    | Downloading package universal_tagset to\n",
            "[nltk_data]    |     /root/nltk_data...\n",
            "[nltk_data]    |   Package universal_tagset is already up-to-date!\n",
            "[nltk_data]    | Downloading package maxent_ne_chunker to\n",
            "[nltk_data]    |     /root/nltk_data...\n",
            "[nltk_data]    |   Package maxent_ne_chunker is already up-to-date!\n",
            "[nltk_data]    | Downloading package punkt to /root/nltk_data...\n",
            "[nltk_data]    |   Package punkt is already up-to-date!\n",
            "[nltk_data]    | Downloading package book_grammars to\n",
            "[nltk_data]    |     /root/nltk_data...\n",
            "[nltk_data]    |   Package book_grammars is already up-to-date!\n",
            "[nltk_data]    | Downloading package sample_grammars to\n",
            "[nltk_data]    |     /root/nltk_data...\n",
            "[nltk_data]    |   Package sample_grammars is already up-to-date!\n",
            "[nltk_data]    | Downloading package spanish_grammars to\n",
            "[nltk_data]    |     /root/nltk_data...\n",
            "[nltk_data]    |   Package spanish_grammars is already up-to-date!\n",
            "[nltk_data]    | Downloading package basque_grammars to\n",
            "[nltk_data]    |     /root/nltk_data...\n",
            "[nltk_data]    |   Package basque_grammars is already up-to-date!\n",
            "[nltk_data]    | Downloading package large_grammars to\n",
            "[nltk_data]    |     /root/nltk_data...\n",
            "[nltk_data]    |   Package large_grammars is already up-to-date!\n",
            "[nltk_data]    | Downloading package tagsets to /root/nltk_data...\n",
            "[nltk_data]    |   Package tagsets is already up-to-date!\n",
            "[nltk_data]    | Downloading package snowball_data to\n",
            "[nltk_data]    |     /root/nltk_data...\n",
            "[nltk_data]    |   Package snowball_data is already up-to-date!\n",
            "[nltk_data]    | Downloading package bllip_wsj_no_aux to\n",
            "[nltk_data]    |     /root/nltk_data...\n",
            "[nltk_data]    |   Package bllip_wsj_no_aux is already up-to-date!\n",
            "[nltk_data]    | Downloading package word2vec_sample to\n",
            "[nltk_data]    |     /root/nltk_data...\n",
            "[nltk_data]    |   Package word2vec_sample is already up-to-date!\n",
            "[nltk_data]    | Downloading package panlex_swadesh to\n",
            "[nltk_data]    |     /root/nltk_data...\n",
            "[nltk_data]    |   Package panlex_swadesh is already up-to-date!\n",
            "[nltk_data]    | Downloading package mte_teip5 to /root/nltk_data...\n",
            "[nltk_data]    |   Package mte_teip5 is already up-to-date!\n",
            "[nltk_data]    | Downloading package averaged_perceptron_tagger to\n",
            "[nltk_data]    |     /root/nltk_data...\n",
            "[nltk_data]    |   Package averaged_perceptron_tagger is already up-\n",
            "[nltk_data]    |       to-date!\n",
            "[nltk_data]    | Downloading package averaged_perceptron_tagger_ru to\n",
            "[nltk_data]    |     /root/nltk_data...\n",
            "[nltk_data]    |   Package averaged_perceptron_tagger_ru is already\n",
            "[nltk_data]    |       up-to-date!\n",
            "[nltk_data]    | Downloading package perluniprops to\n",
            "[nltk_data]    |     /root/nltk_data...\n",
            "[nltk_data]    |   Package perluniprops is already up-to-date!\n",
            "[nltk_data]    | Downloading package nonbreaking_prefixes to\n",
            "[nltk_data]    |     /root/nltk_data...\n",
            "[nltk_data]    |   Package nonbreaking_prefixes is already up-to-date!\n",
            "[nltk_data]    | Downloading package vader_lexicon to\n",
            "[nltk_data]    |     /root/nltk_data...\n",
            "[nltk_data]    |   Package vader_lexicon is already up-to-date!\n",
            "[nltk_data]    | Downloading package porter_test to /root/nltk_data...\n",
            "[nltk_data]    |   Package porter_test is already up-to-date!\n",
            "[nltk_data]    | Downloading package wmt15_eval to /root/nltk_data...\n",
            "[nltk_data]    |   Package wmt15_eval is already up-to-date!\n",
            "[nltk_data]    | Downloading package mwa_ppdb to /root/nltk_data...\n",
            "[nltk_data]    |   Package mwa_ppdb is already up-to-date!\n",
            "[nltk_data]    | \n",
            "[nltk_data]  Done downloading collection all\n"
          ],
          "name": "stdout"
        },
        {
          "output_type": "execute_result",
          "data": {
            "text/plain": [
              "True"
            ]
          },
          "metadata": {
            "tags": []
          },
          "execution_count": 2
        }
      ]
    },
    {
      "cell_type": "code",
      "metadata": {
        "id": "nHqwzF7qEM_Z",
        "colab_type": "code",
        "colab": {}
      },
      "source": [
        "text=\"\"\"Simply put, a blog is a tool that can help develop an online presence, attract leads, and engage with an audience. It is often a series of editorial content centered around a central topic that demonstrates industry expertise -- for instance, a catering company might write blog posts like The 11 Best Appetizers to Serve to a Crowd or Stress-Free Dinner Parties: Recipes that are Prepared Ahead of Time. Blogs can help drive traffic to your website, convert that traffic into leads, establish authority in your industry, and ultimately grow your business. In fact, organizations are 13x more likely to see positive ROI by prioritizing blogging. Most of a blog traffic is driven organically -- in other words, consumers will search for something on a search engine and click on your blog if it matches their intended topic. However, there are a lot of organizations competing for your audiences attention, so it is important to avoid common blog mistakes to stand out.\"\"\""
      ],
      "execution_count": 3,
      "outputs": []
    },
    {
      "cell_type": "code",
      "metadata": {
        "id": "8XvMQGSBDw0T",
        "colab_type": "code",
        "colab": {
          "base_uri": "https://localhost:8080/",
          "height": 55
        },
        "outputId": "44ce985a-62f7-4913-c614-2e9b7fa614f1"
      },
      "source": [
        "from nltk.tokenize import word_tokenize\n",
        "#tokenizing text\n",
        "tokenized_word=word_tokenize(text)\n",
        "print(tokenized_word)"
      ],
      "execution_count": 4,
      "outputs": [
        {
          "output_type": "stream",
          "text": [
            "['Simply', 'put', ',', 'a', 'blog', 'is', 'a', 'tool', 'that', 'can', 'help', 'develop', 'an', 'online', 'presence', ',', 'attract', 'leads', ',', 'and', 'engage', 'with', 'an', 'audience', '.', 'It', 'is', 'often', 'a', 'series', 'of', 'editorial', 'content', 'centered', 'around', 'a', 'central', 'topic', 'that', 'demonstrates', 'industry', 'expertise', '--', 'for', 'instance', ',', 'a', 'catering', 'company', 'might', 'write', 'blog', 'posts', 'like', 'The', '11', 'Best', 'Appetizers', 'to', 'Serve', 'to', 'a', 'Crowd', 'or', 'Stress-Free', 'Dinner', 'Parties', ':', 'Recipes', 'that', 'are', 'Prepared', 'Ahead', 'of', 'Time', '.', 'Blogs', 'can', 'help', 'drive', 'traffic', 'to', 'your', 'website', ',', 'convert', 'that', 'traffic', 'into', 'leads', ',', 'establish', 'authority', 'in', 'your', 'industry', ',', 'and', 'ultimately', 'grow', 'your', 'business', '.', 'In', 'fact', ',', 'organizations', 'are', '13x', 'more', 'likely', 'to', 'see', 'positive', 'ROI', 'by', 'prioritizing', 'blogging', '.', 'Most', 'of', 'a', 'blog', 'traffic', 'is', 'driven', 'organically', '--', 'in', 'other', 'words', ',', 'consumers', 'will', 'search', 'for', 'something', 'on', 'a', 'search', 'engine', 'and', 'click', 'on', 'your', 'blog', 'if', 'it', 'matches', 'their', 'intended', 'topic', '.', 'However', ',', 'there', 'are', 'a', 'lot', 'of', 'organizations', 'competing', 'for', 'your', 'audiences', 'attention', ',', 'so', 'it', 'is', 'important', 'to', 'avoid', 'common', 'blog', 'mistakes', 'to', 'stand', 'out', '.']\n"
          ],
          "name": "stdout"
        }
      ]
    },
    {
      "cell_type": "code",
      "metadata": {
        "id": "9WCHLifADdZi",
        "colab_type": "code",
        "colab": {
          "base_uri": "https://localhost:8080/",
          "height": 35
        },
        "outputId": "9a303d66-333e-4fb5-dfd3-b75386425af3"
      },
      "source": [
        "#Finding frequency of words\n",
        "\n",
        "from nltk.probability import FreqDist\n",
        "fdist = FreqDist(tokenized_word)\n",
        "print(fdist)"
      ],
      "execution_count": 5,
      "outputs": [
        {
          "output_type": "stream",
          "text": [
            "<FreqDist with 115 samples and 180 outcomes>\n"
          ],
          "name": "stdout"
        }
      ]
    },
    {
      "cell_type": "code",
      "metadata": {
        "id": "_0k4YL-oGAu0",
        "colab_type": "code",
        "colab": {
          "base_uri": "https://localhost:8080/",
          "height": 156
        },
        "outputId": "d07cb06c-2682-4568-ce07-52b61b1474f4"
      },
      "source": [
        "#finding most common words\n",
        "\n",
        "fdist.most_common(8)"
      ],
      "execution_count": 6,
      "outputs": [
        {
          "output_type": "execute_result",
          "data": {
            "text/plain": [
              "[(',', 11),\n",
              " ('a', 9),\n",
              " ('.', 6),\n",
              " ('to', 6),\n",
              " ('blog', 5),\n",
              " ('your', 5),\n",
              " ('is', 4),\n",
              " ('that', 4)]"
            ]
          },
          "metadata": {
            "tags": []
          },
          "execution_count": 6
        }
      ]
    },
    {
      "cell_type": "code",
      "metadata": {
        "id": "5amMw9vJGGBE",
        "colab_type": "code",
        "colab": {
          "base_uri": "https://localhost:8080/",
          "height": 337
        },
        "outputId": "02c97240-f4e0-405b-fcd8-cbb6ded6bd67"
      },
      "source": [
        "# Frequency Distribution Plot\n",
        "import matplotlib.pyplot as plt\n",
        "fdist.plot(35,cumulative=False)\n",
        "plt.show()"
      ],
      "execution_count": 7,
      "outputs": [
        {
          "output_type": "display_data",
          "data": {
            "image/png": "[encoded data removed]",
            "text/plain": [
              "<Figure size 432x288 with 1 Axes>"
            ]
          },
          "metadata": {
            "tags": [],
            "needs_background": "light"
          }
        }
      ]
    },
    {
      "cell_type": "markdown",
      "metadata": {
        "id": "S50u-q26Gs6n",
        "colab_type": "text"
      },
      "source": [
        "## (b) Removing Stop Words"
      ]
    },
    {
      "cell_type": "markdown",
      "metadata": {
        "id": "xDD_jivjJYYH",
        "colab_type": "text"
      },
      "source": [
        "Stopwords considered as noise in the text. Text may contain stop words such as is, am, are, this, a, an, the, etc.\n",
        "\n",
        "In NLTK for removing stopwords, you need to create a list of stopwords and filter out your list of tokens from these words."
      ]
    },
    {
      "cell_type": "code",
      "metadata": {
        "id": "ZY7BtniJHmO3",
        "colab_type": "code",
        "colab": {
          "base_uri": "https://localhost:8080/",
          "height": 69
        },
        "outputId": "fe2e530c-a288-4c41-fb6e-c3fb2e3505ac"
      },
      "source": [
        "nltk.download('stopwords')"
      ],
      "execution_count": 8,
      "outputs": [
        {
          "output_type": "stream",
          "text": [
            "[nltk_data] Downloading package stopwords to /root/nltk_data...\n",
            "[nltk_data]   Package stopwords is already up-to-date!\n"
          ],
          "name": "stdout"
        },
        {
          "output_type": "execute_result",
          "data": {
            "text/plain": [
              "True"
            ]
          },
          "metadata": {
            "tags": []
          },
          "execution_count": 8
        }
      ]
    },
    {
      "cell_type": "code",
      "metadata": {
        "id": "C9qMoXGsGsSD",
        "colab_type": "code",
        "colab": {
          "base_uri": "https://localhost:8080/",
          "height": 107
        },
        "outputId": "33e6c2c8-9042-4ba2-9589-c09917995cf9"
      },
      "source": [
        "from nltk.corpus import stopwords\n",
        "from nltk.tokenize import word_tokenize\n",
        "\n",
        "text=\"\"\"Simply put, a blog is a tool that can help develop an online presence, attract leads, and engage with an audience. It is often a series of editorial content centered around a central topic that demonstrates industry expertise -- for instance, a catering company might write blog posts like The 11 Best Appetizers to Serve to a Crowd or Stress-Free Dinner Parties: Recipes that are Prepared Ahead of Time. Blogs can help drive traffic to your website, convert that traffic into leads, establish authority in your industry, and ultimately grow your business. In fact, organizations are 13x more likely to see positive ROI by prioritizing blogging. Most of a blog traffic is driven organically -- in other words, consumers will search for something on a search engine and click on your blog if it matches their intended topic. However, there are a lot of organizations competing for your audiences attention, so it is important to avoid common blog mistakes to stand out.\"\"\"\n",
        "stop_words = set(stopwords.words('english'))\n",
        "\n",
        "word_tokens = word_tokenize(text)\n",
        "\n",
        "filtered_sentence = [w for w in word_tokens if not w in stop_words]\n",
        "\n",
        "filtered_sentence = []\n",
        "\n",
        "for w in word_tokens:\n",
        "    if w not in stop_words:\n",
        "        filtered_sentence.append(w)\n",
        "print(\"The Word Tokens are:\")\n",
        "print(word_tokens)\n",
        "print(\"The filtered sentence without stopwords: \")\n",
        "print(filtered_sentence)"
      ],
      "execution_count": 9,
      "outputs": [
        {
          "output_type": "stream",
          "text": [
            "The Word Tokens are:\n",
            "['Simply', 'put', ',', 'a', 'blog', 'is', 'a', 'tool', 'that', 'can', 'help', 'develop', 'an', 'online', 'presence', ',', 'attract', 'leads', ',', 'and', 'engage', 'with', 'an', 'audience', '.', 'It', 'is', 'often', 'a', 'series', 'of', 'editorial', 'content', 'centered', 'around', 'a', 'central', 'topic', 'that', 'demonstrates', 'industry', 'expertise', '--', 'for', 'instance', ',', 'a', 'catering', 'company', 'might', 'write', 'blog', 'posts', 'like', 'The', '11', 'Best', 'Appetizers', 'to', 'Serve', 'to', 'a', 'Crowd', 'or', 'Stress-Free', 'Dinner', 'Parties', ':', 'Recipes', 'that', 'are', 'Prepared', 'Ahead', 'of', 'Time', '.', 'Blogs', 'can', 'help', 'drive', 'traffic', 'to', 'your', 'website', ',', 'convert', 'that', 'traffic', 'into', 'leads', ',', 'establish', 'authority', 'in', 'your', 'industry', ',', 'and', 'ultimately', 'grow', 'your', 'business', '.', 'In', 'fact', ',', 'organizations', 'are', '13x', 'more', 'likely', 'to', 'see', 'positive', 'ROI', 'by', 'prioritizing', 'blogging', '.', 'Most', 'of', 'a', 'blog', 'traffic', 'is', 'driven', 'organically', '--', 'in', 'other', 'words', ',', 'consumers', 'will', 'search', 'for', 'something', 'on', 'a', 'search', 'engine', 'and', 'click', 'on', 'your', 'blog', 'if', 'it', 'matches', 'their', 'intended', 'topic', '.', 'However', ',', 'there', 'are', 'a', 'lot', 'of', 'organizations', 'competing', 'for', 'your', 'audiences', 'attention', ',', 'so', 'it', 'is', 'important', 'to', 'avoid', 'common', 'blog', 'mistakes', 'to', 'stand', 'out', '.']\n",
            "The filtered sentence without stopwords: \n",
            "['Simply', 'put', ',', 'blog', 'tool', 'help', 'develop', 'online', 'presence', ',', 'attract', 'leads', ',', 'engage', 'audience', '.', 'It', 'often', 'series', 'editorial', 'content', 'centered', 'around', 'central', 'topic', 'demonstrates', 'industry', 'expertise', '--', 'instance', ',', 'catering', 'company', 'might', 'write', 'blog', 'posts', 'like', 'The', '11', 'Best', 'Appetizers', 'Serve', 'Crowd', 'Stress-Free', 'Dinner', 'Parties', ':', 'Recipes', 'Prepared', 'Ahead', 'Time', '.', 'Blogs', 'help', 'drive', 'traffic', 'website', ',', 'convert', 'traffic', 'leads', ',', 'establish', 'authority', 'industry', ',', 'ultimately', 'grow', 'business', '.', 'In', 'fact', ',', 'organizations', '13x', 'likely', 'see', 'positive', 'ROI', 'prioritizing', 'blogging', '.', 'Most', 'blog', 'traffic', 'driven', 'organically', '--', 'words', ',', 'consumers', 'search', 'something', 'search', 'engine', 'click', 'blog', 'matches', 'intended', 'topic', '.', 'However', ',', 'lot', 'organizations', 'competing', 'audiences', 'attention', ',', 'important', 'avoid', 'common', 'blog', 'mistakes', 'stand', '.']\n"
          ],
          "name": "stdout"
        }
      ]
    },
    {
      "cell_type": "markdown",
      "metadata": {
        "id": "xcN60pGXG79A",
        "colab_type": "text"
      },
      "source": [
        "## **Task 1 : Removing Custom Stop Words from Text**"
      ]
    },
    {
      "cell_type": "markdown",
      "metadata": {
        "id": "Sv2rQQ-fZEPx",
        "colab_type": "text"
      },
      "source": [
        "###Step 1: Normal Stop Word Removal"
      ]
    },
    {
      "cell_type": "code",
      "metadata": {
        "id": "KQZVuPRFMANu",
        "colab_type": "code",
        "colab": {
          "base_uri": "https://localhost:8080/",
          "height": 72
        },
        "outputId": "6be28d80-5c78-4fb0-e46a-f06c3224ebd7"
      },
      "source": [
        "\n",
        "\n",
        "import spacy \n",
        "from spacy.lang.en.stop_words import STOP_WORDS\n",
        "\n",
        "print(len(STOP_WORDS))\n",
        "print(STOP_WORDS)"
      ],
      "execution_count": 10,
      "outputs": [
        {
          "output_type": "stream",
          "text": [
            "326\n",
            "{'via', 'least', 'her', 'eight', 'am', 'less', 'go', 'none', 'these', 'what', 'already', 'enough', 'towards', '‘s', 'elsewhere', 'be', 'sometimes', 'wherein', '‘d', 'whereby', 'first', 'become', 'this', 'why', 'sometime', 'four', 'get', 'empty', 'latter', 'meanwhile', 'can', 'hers', 'nine', 'off', 'onto', 'otherwise', 'whereas', 'there', 'through', 'who', 'almost', 'two', \"n't\", 'ca', 'wherever', 'mine', 'formerly', 'alone', 'becoming', 'anything', 'everything', 'though', '‘re', 'please', 're', 'regarding', 'ten', '‘ll', 'put', 'was', 'she', 'fifteen', 'therefore', 'twelve', 'then', 'down', 'his', \"'m\", '’ve', 'with', 'since', 'various', 'doing', 'against', 'such', 'do', 'whither', 'are', 'has', 'if', 'on', 'under', 'during', 'a', 'just', 'unless', \"'ll\", 'at', 'although', 'somewhere', 'full', 'itself', 'once', 'as', 'toward', 'in', 'ours', 'seem', 'even', 'thereby', '’d', 'them', \"'s\", 'latterly', 'side', 'whenever', 'much', 'before', 'seeming', 'ourselves', 'both', 'out', '’re', 'front', 'former', 'three', 'were', 'while', 'any', 'than', 'should', 'again', 'behind', 'bottom', 'here', 'they', 'twenty', 'also', 'have', 'never', 'however', 'until', 'mostly', 'most', 'for', 'indeed', 'using', 'whence', 'along', 'himself', 'well', \"'re\", 'themselves', 'herein', 'did', 'from', 'about', 'except', '‘ve', 'thence', 'thereupon', 'n’t', 'hereafter', 'something', 'whose', 'together', 'hereby', 'those', '’s', 'where', 'whoever', 'became', 'see', 'below', 'throughout', '’m', 'so', 'the', 'we', 'without', 'cannot', 'anyhow', 'namely', 'upon', 'after', 'else', 'into', 'across', 'hence', 'many', 'it', 'neither', 'nobody', 'thus', 'really', 'he', 'call', 'keep', 'of', 'others', 'whom', 'would', 'each', 'every', 'more', 'nowhere', 'show', 'amongst', 'too', 'eleven', \"'ve\", 'beyond', 'take', 'moreover', 'being', 'top', 'been', 'but', 'over', \"'d\", 'quite', 'hundred', 'is', 'yet', '’ll', 'will', 'thereafter', 'becomes', 'ever', 'still', 'how', 'or', 'afterwards', 'could', 'other', 'nevertheless', 'done', 'among', 'very', 'by', 'must', 'between', 'whereafter', 'because', 'to', 'few', 'yours', 'only', 'no', 'third', 'whatever', 'name', 'and', 'own', 'above', 'anyone', 'part', 'same', 'up', 'whether', 'your', 'everywhere', 'six', 'some', 'forty', 'us', 'seemed', 'further', 'not', 'my', 'several', 'one', 'move', 'thru', 'that', 'anyway', 'amount', 'give', 'somehow', 'whereupon', 'say', 'anywhere', 'which', 'either', 'fifty', 'sixty', 'besides', 'everyone', 'perhaps', 'within', 'next', 'when', 'beforehand', 'beside', 'i', 'seems', 'back', 'used', 'you', 'five', 'myself', 'serious', 'their', 'due', '‘m', 'hereupon', 'herself', 'had', 'make', 'me', 'always', 'may', 'made', 'per', 'someone', 'an', 'now', 'yourselves', 'n‘t', 'often', 'all', 'nothing', 'our', 'might', 'nor', 'last', 'its', 'rather', 'whole', 'him', 'yourself', 'noone', 'around', 'does', 'therein', 'another'}\n"
          ],
          "name": "stdout"
        }
      ]
    },
    {
      "cell_type": "code",
      "metadata": {
        "id": "meFjAX8RPbGD",
        "colab_type": "code",
        "colab": {
          "base_uri": "https://localhost:8080/",
          "height": 159
        },
        "outputId": "7c319eea-5171-4b89-ab3c-74363410b4e3"
      },
      "source": [
        "import spacy\n",
        "nlp = spacy.load('en_core_web_sm')\n",
        "\n",
        "sentence = nlp(\"Arthritis and rheumatism are general names for approximately 100 diseases that produce inflammation or degeneration of connective tissue. Some of these diseases are infectious and primarily affect younger people. Rheumatic fever, for example, is a bacterial infection that occurs mostly in children or teenagers. Rheumatoid arthritis predominantly strikes women between 20 and 60. However, the most common rheumatic disease is a noninfectious, noninflammatory degenerative joint disease – osteoarthritis. To some degree, it affects nearly all older adults, causing swelling, pain, and stiffness in joints. Treatment may include heat, exercises, and drugs that reduce pain and inflammation.Besides osteoarthritis, many other noninfectious diseases can limit the activities of the elderly. Osteoporosis (a condition in which bone loss exceeds bone replacement so that the bones become less dense, more porous, and more brittle) often leads to fractures, especially of the hipbone. Many conditions conspire to decrease the sensory perception of the elderly. Cataracts are created when the lens of the eye – or a portion of it – becomes opaque and sometimes swells or shrinks and interferes with vision. Deterioration of nerves in the inner ear causes the characteristic old-age hearing loss, most severe in the high-pitched tones. The senses of taste and smell also deteriorate in old age\")\n",
        "print(sentence)\n",
        "\n",
        "notStopWords = [notStopWords.text for notStopWords in sentence if not notStopWords.is_stop]\n",
        "print(\"The non-stop-words in the text are:\")\n",
        "print(notStopWords)\n",
        "print(len(notStopWords))\n",
        "\n",
        "stopWords = [stopWords.text for stopWords in sentence if stopWords.is_stop]\n",
        "print(\"The stop-words in the text are:\")\n",
        "print(stopWords)\n",
        "print(len(stopWords))"
      ],
      "execution_count": 11,
      "outputs": [
        {
          "output_type": "stream",
          "text": [
            "Arthritis and rheumatism are general names for approximately 100 diseases that produce inflammation or degeneration of connective tissue. Some of these diseases are infectious and primarily affect younger people. Rheumatic fever, for example, is a bacterial infection that occurs mostly in children or teenagers. Rheumatoid arthritis predominantly strikes women between 20 and 60. However, the most common rheumatic disease is a noninfectious, noninflammatory degenerative joint disease – osteoarthritis. To some degree, it affects nearly all older adults, causing swelling, pain, and stiffness in joints. Treatment may include heat, exercises, and drugs that reduce pain and inflammation.Besides osteoarthritis, many other noninfectious diseases can limit the activities of the elderly. Osteoporosis (a condition in which bone loss exceeds bone replacement so that the bones become less dense, more porous, and more brittle) often leads to fractures, especially of the hipbone. Many conditions conspire to decrease the sensory perception of the elderly. Cataracts are created when the lens of the eye – or a portion of it – becomes opaque and sometimes swells or shrinks and interferes with vision. Deterioration of nerves in the inner ear causes the characteristic old-age hearing loss, most severe in the high-pitched tones. The senses of taste and smell also deteriorate in old age\n",
            "The non-stop-words in the text are:\n",
            "['Arthritis', 'rheumatism', 'general', 'names', 'approximately', '100', 'diseases', 'produce', 'inflammation', 'degeneration', 'connective', 'tissue', '.', 'diseases', 'infectious', 'primarily', 'affect', 'younger', 'people', '.', 'Rheumatic', 'fever', ',', 'example', ',', 'bacterial', 'infection', 'occurs', 'children', 'teenagers', '.', 'Rheumatoid', 'arthritis', 'predominantly', 'strikes', 'women', '20', '60', '.', ',', 'common', 'rheumatic', 'disease', 'noninfectious', ',', 'noninflammatory', 'degenerative', 'joint', 'disease', '–', 'osteoarthritis', '.', 'degree', ',', 'affects', 'nearly', 'older', 'adults', ',', 'causing', 'swelling', ',', 'pain', ',', 'stiffness', 'joints', '.', 'Treatment', 'include', 'heat', ',', 'exercises', ',', 'drugs', 'reduce', 'pain', 'inflammation', '.', 'osteoarthritis', ',', 'noninfectious', 'diseases', 'limit', 'activities', 'elderly', '.', 'Osteoporosis', '(', 'condition', 'bone', 'loss', 'exceeds', 'bone', 'replacement', 'bones', 'dense', ',', 'porous', ',', 'brittle', ')', 'leads', 'fractures', ',', 'especially', 'hipbone', '.', 'conditions', 'conspire', 'decrease', 'sensory', 'perception', 'elderly', '.', 'Cataracts', 'created', 'lens', 'eye', '–', 'portion', '–', 'opaque', 'swells', 'shrinks', 'interferes', 'vision', '.', 'Deterioration', 'nerves', 'inner', 'ear', 'causes', 'characteristic', 'old', '-', 'age', 'hearing', 'loss', ',', 'severe', 'high', '-', 'pitched', 'tones', '.', 'senses', 'taste', 'smell', 'deteriorate', 'old', 'age']\n",
            "151\n",
            "The stop-words in the text are:\n",
            "['and', 'are', 'for', 'that', 'or', 'of', 'Some', 'of', 'these', 'are', 'and', 'for', 'is', 'a', 'that', 'mostly', 'in', 'or', 'between', 'and', 'However', 'the', 'most', 'is', 'a', 'To', 'some', 'it', 'all', 'and', 'in', 'may', 'and', 'that', 'and', 'Besides', 'many', 'other', 'can', 'the', 'of', 'the', 'a', 'in', 'which', 'so', 'that', 'the', 'become', 'less', 'more', 'and', 'more', 'often', 'to', 'of', 'the', 'Many', 'to', 'the', 'of', 'the', 'are', 'when', 'the', 'of', 'the', 'or', 'a', 'of', 'it', 'becomes', 'and', 'sometimes', 'or', 'and', 'with', 'of', 'in', 'the', 'the', 'most', 'in', 'the', 'The', 'of', 'and', 'also', 'in']\n",
            "89\n"
          ],
          "name": "stdout"
        }
      ]
    },
    {
      "cell_type": "markdown",
      "metadata": {
        "id": "gJuNI-YKZK48",
        "colab_type": "text"
      },
      "source": [
        "###Step 2 : Adding more stopwords depending on domain using '|' (union)"
      ]
    },
    {
      "cell_type": "code",
      "metadata": {
        "id": "jDLqIBu7Qu5E",
        "colab_type": "code",
        "colab": {
          "base_uri": "https://localhost:8080/",
          "height": 72
        },
        "outputId": "71adb48e-3b48-44ef-9006-0dd9fff5c4bc"
      },
      "source": [
        "STOP_WORDS |= {'disease', 'diseases', 'disorder', 'symptom', 'symptoms', 'drug', 'drugs', 'problems', 'problem','prob', 'probs', 'med', 'meds', 'pill', 'pills', 'medicine', 'medicines', 'medication', 'medications', 'treatment', 'treatments', 'caps', 'capsules', 'capsule','tablet', 'tablets', 'tabs', 'doctor', 'dr', 'dr.', 'doc', 'physician', 'physicians', 'test', 'tests', 'testing', 'specialist', 'specialists','side-effect', 'side-effects', 'pharmaceutical', 'pharmaceuticals', 'pharma', 'diagnosis', 'diagnose', 'diagnosed', 'exam','challenge', 'device', 'condition', 'conditions', 'suffer', 'suffering' ,'suffered', 'feel', 'feeling', 'prescription', 'prescribe','prescribed', 'over-the-counter', 'otc'}\n",
        "\n",
        "print(len(STOP_WORDS))\n",
        "print(STOP_WORDS)"
      ],
      "execution_count": 12,
      "outputs": [
        {
          "output_type": "stream",
          "text": [
            "387\n",
            "{'least', 'eight', 'am', 'go', 'already', 'towards', 'elsewhere', 'whereby', 'first', 'become', 'this', 'side-effects', 'why', 'sometime', 'four', 'off', 'empty', 'over-the-counter', 'can', 'hers', 'onto', 'whereas', 'who', '‘d', \"n't\", 'through', 'medicines', 'wherever', 'mine', 'formerly', 'everything', 'diagnose', 're', 'regarding', '‘ll', 'conditions', 'capsule', 'put', 'fifteen', 'therefore', \"'m\", 'his', 'since', 'various', 'doing', 'are', 'pharma', 'has', 'if', 'on', 'pharmaceutical', 'a', 'diagnosed', 'at', 'although', 'full', 'once', 'in', 'ours', '’d', \"'s\", 'latterly', 'side', 'much', 'before', 'seeming', '’re', 'problem', 'front', 'feel', 'former', 'meds', 'while', 'than', 'should', 'again', 'bottom', 'here', 'medicine', 'have', 'never', 'until', 'mostly', 'whence', 'himself', 'well', \"'re\", 'themselves', 'capsules', 'from', 'about', 'except', 'hereafter', 'something', 'hereby', 'those', 'where', 'whoever', 'we', 'condition', 'cannot', 'feeling', 'anyhow', 'namely', 'upon', 'after', 'into', 'many', 'disease', 'neither', 'nobody', 'thus', 'he', 'keep', 'others', 'would', 'whom', 'every', 'eleven', \"'ve\", 'suffered', 'beyond', 'moreover', 'being', 'top', \"'d\", 'hundred', 'is', 'tablet', 'will', 'becomes', 'still', 'how', 'or', 'caps', 'could', 'nevertheless', 'done', 'among', 'must', 'test', 'to', 'only', 'no', 'third', 'whatever', 'challenge', 'treatments', 'your', 'own', 'above', 'anyone', 'part', 'same', 'whether', 'everywhere', 'probs', 'some', 'forty', 'us', 'unless', 'seemed', 'further', 'not', 'thru', 'one', 'whereupon', 'otc', 'amount', 'say', 'fifty', 'everyone', 'next', 'when', 'suffering', 'i', 'seems', 'back', 'used', 'myself', 'serious', 'specialists', 'due', 'doctor', 'me', 'may', 'per', 'suffer', 'yourselves', 'now', 'drug', 'often', 'nothing', 'our', 'might', 'whole', 'rather', 'him', 'around', 'pill', 'another', 'via', 'med', 'her', 'less', 'none', 'these', '‘s', 'what', 'enough', 'be', 'sometimes', 'wherein', 'pharmaceuticals', 'nine', 'get', 'meanwhile', 'latter', '’ll', 'there', 'specialist', 'almost', 'two', 'ca', 'alone', 'becoming', 'anything', 'though', '‘re', 'please', 'ten', 'was', 'she', 'twelve', 'then', 'down', '’ve', 'physicians', 'with', 'against', 'such', 'do', 'whither', 'prob', 'medication', \"'ll\", 'under', 'during', 'just', 'somewhere', 'itself', 'as', 'toward', 'seem', 'even', 'thereby', 'them', 'whenever', 'pills', 'ourselves', 'both', 'out', 'three', 'were', 'treatment', 'any', 'tabs', 'problems', 'behind', 'they', 'twenty', 'also', 'using', 'however', 'most', 'for', 'indeed', 'along', 'herein', 'did', '‘ve', 'thence', 'thereupon', 'n’t', 'whose', 'together', '’s', 'symptoms', 'became', 'see', 'below', 'exam', 'throughout', '’m', 'so', 'the', 'without', 'else', 'across', 'hence', 'it', 'drugs', 'really', 'physician', 'of', 'call', 'each', 'more', 'nowhere', 'show', 'amongst', 'too', 'take', 'been', 'but', 'over', 'quite', 'prescribed', 'diagnosis', 'yet', 'diseases', 'thereafter', 'ever', 'afterwards', 'other', 'dr.', 'very', 'device', 'by', 'between', 'whereafter', 'because', 'yours', 'few', 'symptom', 'medications', 'prescribe', 'disorder', 'name', 'dr', 'and', 'up', 'six', 'my', 'several', 'doc', 'move', 'that', 'anyway', 'give', 'somehow', 'which', 'anywhere', 'either', 'sixty', 'besides', 'perhaps', 'within', 'beforehand', 'beside', 'you', 'five', '‘m', 'hereupon', 'herself', 'had', 'make', 'always', 'made', 'someone', 'an', 'n‘t', 'tests', 'all', 'tablets', 'nor', 'last', 'its', 'yourself', 'side-effect', 'testing', 'prescription', 'noone', 'their', 'does', 'therein', 'otherwise'}\n"
          ],
          "name": "stdout"
        }
      ]
    },
    {
      "cell_type": "code",
      "metadata": {
        "id": "Rmjo-XRNRxEA",
        "colab_type": "code",
        "colab": {
          "base_uri": "https://localhost:8080/",
          "height": 159
        },
        "outputId": "0ca99f38-5d85-44be-f68e-8cc3507c4e1c"
      },
      "source": [
        "import spacy\n",
        "nlp = spacy.load('en_core_web_sm')\n",
        "\n",
        "sentence = nlp(\"Arthritis and rheumatism are general names for approximately 100 diseases that produce inflammation or degeneration of connective tissue. Some of these diseases are infectious and primarily affect younger people. Rheumatic fever, for example, is a bacterial infection that occurs mostly in children or teenagers. Rheumatoid arthritis predominantly strikes women between 20 and 60. However, the most common rheumatic disease is a noninfectious, noninflammatory degenerative joint disease – osteoarthritis. To some degree, it affects nearly all older adults, causing swelling, pain, and stiffness in joints. Treatment may include heat, exercises, and drugs that reduce pain and inflammation.Besides osteoarthritis, many other noninfectious diseases can limit the activities of the elderly. Osteoporosis (a condition in which bone loss exceeds bone replacement so that the bones become less dense, more porous, and more brittle) often leads to fractures, especially of the hipbone. Many conditions conspire to decrease the sensory perception of the elderly. Cataracts are created when the lens of the eye – or a portion of it – becomes opaque and sometimes swells or shrinks and interferes with vision. Deterioration of nerves in the inner ear causes the characteristic old-age hearing loss, most severe in the high-pitched tones. The senses of taste and smell also deteriorate in old age\")\n",
        "print(sentence)\n",
        "\n",
        "notStopWords = [notStopWords.text for notStopWords in sentence if not notStopWords.is_stop]\n",
        "print(\"The non-stop-words in the text are:\")\n",
        "print(notStopWords)\n",
        "print(len(notStopWords))\n",
        "\n",
        "stopWords = [stopWords.text for stopWords in sentence if stopWords.is_stop]\n",
        "print(\"The stop-words in the text are:\")\n",
        "print(stopWords)\n",
        "print(len(stopWords))"
      ],
      "execution_count": 23,
      "outputs": [
        {
          "output_type": "stream",
          "text": [
            "Arthritis and rheumatism are general names for approximately 100 diseases that produce inflammation or degeneration of connective tissue. Some of these diseases are infectious and primarily affect younger people. Rheumatic fever, for example, is a bacterial infection that occurs mostly in children or teenagers. Rheumatoid arthritis predominantly strikes women between 20 and 60. However, the most common rheumatic disease is a noninfectious, noninflammatory degenerative joint disease – osteoarthritis. To some degree, it affects nearly all older adults, causing swelling, pain, and stiffness in joints. Treatment may include heat, exercises, and drugs that reduce pain and inflammation.Besides osteoarthritis, many other noninfectious diseases can limit the activities of the elderly. Osteoporosis (a condition in which bone loss exceeds bone replacement so that the bones become less dense, more porous, and more brittle) often leads to fractures, especially of the hipbone. Many conditions conspire to decrease the sensory perception of the elderly. Cataracts are created when the lens of the eye – or a portion of it – becomes opaque and sometimes swells or shrinks and interferes with vision. Deterioration of nerves in the inner ear causes the characteristic old-age hearing loss, most severe in the high-pitched tones. The senses of taste and smell also deteriorate in old age\n",
            "The non-stop-words in the text are:\n",
            "['Arthritis', 'rheumatism', 'general', 'names', 'approximately', '100', 'produce', 'inflammation', 'degeneration', 'connective', 'tissue', '.', 'infectious', 'primarily', 'affect', 'younger', 'people', '.', 'Rheumatic', 'fever', ',', 'example', ',', 'bacterial', 'infection', 'occurs', 'children', 'teenagers', '.', 'Rheumatoid', 'arthritis', 'predominantly', 'strikes', 'women', '20', '60', '.', ',', 'common', 'rheumatic', 'noninfectious', ',', 'noninflammatory', 'degenerative', 'joint', '–', 'osteoarthritis', '.', 'degree', ',', 'affects', 'nearly', 'older', 'adults', ',', 'causing', 'swelling', ',', 'pain', ',', 'stiffness', 'joints', '.', 'include', 'heat', ',', 'exercises', ',', 'reduce', 'pain', 'inflammation', '.', 'osteoarthritis', ',', 'noninfectious', 'limit', 'activities', 'elderly', '.', 'Osteoporosis', '(', 'bone', 'loss', 'exceeds', 'bone', 'replacement', 'bones', 'dense', ',', 'porous', ',', 'brittle', ')', 'leads', 'fractures', ',', 'especially', 'hipbone', '.', 'conspire', 'decrease', 'sensory', 'perception', 'elderly', '.', 'Cataracts', 'created', 'lens', 'eye', '–', 'portion', '–', 'opaque', 'swells', 'shrinks', 'interferes', 'vision', '.', 'Deterioration', 'nerves', 'inner', 'ear', 'causes', 'characteristic', 'old', '-', 'age', 'hearing', 'loss', ',', 'severe', 'high', '-', 'pitched', 'tones', '.', 'senses', 'taste', 'smell', 'deteriorate', 'old', 'age']\n",
            "142\n",
            "The stop-words in the text are:\n",
            "['and', 'are', 'for', 'diseases', 'that', 'or', 'of', 'Some', 'of', 'these', 'diseases', 'are', 'and', 'for', 'is', 'a', 'that', 'mostly', 'in', 'or', 'between', 'and', 'However', 'the', 'most', 'disease', 'is', 'a', 'disease', 'To', 'some', 'it', 'all', 'and', 'in', 'Treatment', 'may', 'and', 'drugs', 'that', 'and', 'Besides', 'many', 'other', 'diseases', 'can', 'the', 'of', 'the', 'a', 'condition', 'in', 'which', 'so', 'that', 'the', 'become', 'less', 'more', 'and', 'more', 'often', 'to', 'of', 'the', 'Many', 'conditions', 'to', 'the', 'of', 'the', 'are', 'when', 'the', 'of', 'the', 'or', 'a', 'of', 'it', 'becomes', 'and', 'sometimes', 'or', 'and', 'with', 'of', 'in', 'the', 'the', 'most', 'in', 'the', 'The', 'of', 'and', 'also', 'in']\n",
            "98\n"
          ],
          "name": "stdout"
        }
      ]
    },
    {
      "cell_type": "markdown",
      "metadata": {
        "id": "7NNENs2hZXfn",
        "colab_type": "text"
      },
      "source": [
        "Initially, we had removed the default stopwords and the number of stopwords removed from the text was 89. Now, we have added more stopwords (based on the medical domain here) and in the second step, from the same text, we had removed 98 stopwords."
      ]
    },
    {
      "cell_type": "markdown",
      "metadata": {
        "id": "osWf2nyKTA8-",
        "colab_type": "text"
      },
      "source": [
        "##**Task 2 : Selecting words having a particular threshold frequency**"
      ]
    },
    {
      "cell_type": "code",
      "metadata": {
        "id": "Frw8ycNFUKiU",
        "colab_type": "code",
        "colab": {}
      },
      "source": [
        "TEXT='''In an age of medical specialities, the anaesthesiologist is a specialist in the use of drugs to prevent suffering. The pain of surgery is his first concern. as it has been for more than a hundred years. The anaesthesiologist also brings swift relief to accident victims, treats ailments of the respiratory tract and eases the agony of incurable diseases. He draws on an extensive range of instruments and drugs: machines that temporarily substitute for body organs, gases that can induce a dreamy doze or deep unconsciousness, tranquillizers that banish fear, injections that block pain. So precise is the control afforded by these new tools and techniques that the anaesthesiologist can, in effect, suspend life for hours at a time, making possible some of the most dramatic achievements of modern surgery, such as the repair of a damaged heart or the replacement of a diseased kidney.\n",
        "\n",
        "In 1842, an American physician named Crawford Long made medical history when he held an ether-soaked towel over a patient's face until he was unconscious. Then Dr Long removed a small neck tumour; the patient experienced no pain. It was the first successful use of surgical anaesthesia.\n",
        "\n",
        "Today ether-obtained by distilling ethylene with sulphuric acid -- remains one of the most effective drugs for inducing the deep, relaxed sleep required for major surgery. But ether has an unpleasant, often nauseating odour; it irritates the respiratory system and it is dangerous to use because of its explosive nature. In one method of overcoming these drawbacks anaesthesiologists use only very small amounts of ether, often mixed with another anaesthetic, as the finishing touch in a step-by-step procedure for inducing sleep. This technique, tailored to the individual, employs a series of drugs designed to achieve successively deeper anaesthesia.'''"
      ],
      "execution_count": 15,
      "outputs": []
    },
    {
      "cell_type": "code",
      "metadata": {
        "id": "NkrkrHspSU6B",
        "colab_type": "code",
        "colab": {
          "base_uri": "https://localhost:8080/",
          "height": 55
        },
        "outputId": "7cc882bc-3595-4ca2-e4f9-285ccb2243ba"
      },
      "source": [
        "from nltk.tokenize import word_tokenize\n",
        "tokenized_word=word_tokenize(TEXT)\n",
        "print(tokenized_word)"
      ],
      "execution_count": 16,
      "outputs": [
        {
          "output_type": "stream",
          "text": [
            "['In', 'an', 'age', 'of', 'medical', 'specialities', ',', 'the', 'anaesthesiologist', 'is', 'a', 'specialist', 'in', 'the', 'use', 'of', 'drugs', 'to', 'prevent', 'suffering', '.', 'The', 'pain', 'of', 'surgery', 'is', 'his', 'first', 'concern', '.', 'as', 'it', 'has', 'been', 'for', 'more', 'than', 'a', 'hundred', 'years', '.', 'The', 'anaesthesiologist', 'also', 'brings', 'swift', 'relief', 'to', 'accident', 'victims', ',', 'treats', 'ailments', 'of', 'the', 'respiratory', 'tract', 'and', 'eases', 'the', 'agony', 'of', 'incurable', 'diseases', '.', 'He', 'draws', 'on', 'an', 'extensive', 'range', 'of', 'instruments', 'and', 'drugs', ':', 'machines', 'that', 'temporarily', 'substitute', 'for', 'body', 'organs', ',', 'gases', 'that', 'can', 'induce', 'a', 'dreamy', 'doze', 'or', 'deep', 'unconsciousness', ',', 'tranquillizers', 'that', 'banish', 'fear', ',', 'injections', 'that', 'block', 'pain', '.', 'So', 'precise', 'is', 'the', 'control', 'afforded', 'by', 'these', 'new', 'tools', 'and', 'techniques', 'that', 'the', 'anaesthesiologist', 'can', ',', 'in', 'effect', ',', 'suspend', 'life', 'for', 'hours', 'at', 'a', 'time', ',', 'making', 'possible', 'some', 'of', 'the', 'most', 'dramatic', 'achievements', 'of', 'modern', 'surgery', ',', 'such', 'as', 'the', 'repair', 'of', 'a', 'damaged', 'heart', 'or', 'the', 'replacement', 'of', 'a', 'diseased', 'kidney', '.', 'In', '1842', ',', 'an', 'American', 'physician', 'named', 'Crawford', 'Long', 'made', 'medical', 'history', 'when', 'he', 'held', 'an', 'ether-soaked', 'towel', 'over', 'a', 'patient', \"'s\", 'face', 'until', 'he', 'was', 'unconscious', '.', 'Then', 'Dr', 'Long', 'removed', 'a', 'small', 'neck', 'tumour', ';', 'the', 'patient', 'experienced', 'no', 'pain', '.', 'It', 'was', 'the', 'first', 'successful', 'use', 'of', 'surgical', 'anaesthesia', '.', 'Today', 'ether-obtained', 'by', 'distilling', 'ethylene', 'with', 'sulphuric', 'acid', '--', 'remains', 'one', 'of', 'the', 'most', 'effective', 'drugs', 'for', 'inducing', 'the', 'deep', ',', 'relaxed', 'sleep', 'required', 'for', 'major', 'surgery', '.', 'But', 'ether', 'has', 'an', 'unpleasant', ',', 'often', 'nauseating', 'odour', ';', 'it', 'irritates', 'the', 'respiratory', 'system', 'and', 'it', 'is', 'dangerous', 'to', 'use', 'because', 'of', 'its', 'explosive', 'nature', '.', 'In', 'one', 'method', 'of', 'overcoming', 'these', 'drawbacks', 'anaesthesiologists', 'use', 'only', 'very', 'small', 'amounts', 'of', 'ether', ',', 'often', 'mixed', 'with', 'another', 'anaesthetic', ',', 'as', 'the', 'finishing', 'touch', 'in', 'a', 'step-by-step', 'procedure', 'for', 'inducing', 'sleep', '.', 'This', 'technique', ',', 'tailored', 'to', 'the', 'individual', ',', 'employs', 'a', 'series', 'of', 'drugs', 'designed', 'to', 'achieve', 'successively', 'deeper', 'anaesthesia', '.']\n"
          ],
          "name": "stdout"
        }
      ]
    },
    {
      "cell_type": "code",
      "metadata": {
        "id": "nURlOaYmUcRM",
        "colab_type": "code",
        "colab": {
          "base_uri": "https://localhost:8080/",
          "height": 35
        },
        "outputId": "16f46758-3164-4218-f979-91cfd8553db7"
      },
      "source": [
        "from nltk.probability import FreqDist\n",
        "f_dist = FreqDist(tokenized_word)\n",
        "print(f_dist)"
      ],
      "execution_count": 19,
      "outputs": [
        {
          "output_type": "stream",
          "text": [
            "<FreqDist with 190 samples and 323 outcomes>\n"
          ],
          "name": "stdout"
        }
      ]
    },
    {
      "cell_type": "code",
      "metadata": {
        "id": "2-j6jK9WUi-x",
        "colab_type": "code",
        "colab": {
          "base_uri": "https://localhost:8080/",
          "height": 537
        },
        "outputId": "4877efb6-3abb-4c9e-e7db-72bd8c82b843"
      },
      "source": [
        "f_dist.most_common(30)"
      ],
      "execution_count": 27,
      "outputs": [
        {
          "output_type": "execute_result",
          "data": {
            "text/plain": [
              "[('of', 16),\n",
              " (',', 16),\n",
              " ('the', 16),\n",
              " ('.', 13),\n",
              " ('a', 10),\n",
              " ('for', 6),\n",
              " ('an', 5),\n",
              " ('to', 5),\n",
              " ('that', 5),\n",
              " ('is', 4),\n",
              " ('use', 4),\n",
              " ('drugs', 4),\n",
              " ('and', 4),\n",
              " ('In', 3),\n",
              " ('anaesthesiologist', 3),\n",
              " ('in', 3),\n",
              " ('pain', 3),\n",
              " ('surgery', 3),\n",
              " ('as', 3),\n",
              " ('it', 3),\n",
              " ('medical', 2),\n",
              " ('The', 2),\n",
              " ('first', 2),\n",
              " ('has', 2),\n",
              " ('respiratory', 2),\n",
              " ('can', 2),\n",
              " ('or', 2),\n",
              " ('deep', 2),\n",
              " ('by', 2),\n",
              " ('these', 2)]"
            ]
          },
          "metadata": {
            "tags": []
          },
          "execution_count": 27
        }
      ]
    },
    {
      "cell_type": "code",
      "metadata": {
        "id": "7azyfuzHUx8p",
        "colab_type": "code",
        "colab": {
          "base_uri": "https://localhost:8080/",
          "height": 364
        },
        "outputId": "58cfcea4-38e5-4440-a655-4f318699e987"
      },
      "source": [
        "fdist.most_common()[-20:]"
      ],
      "execution_count": 28,
      "outputs": [
        {
          "output_type": "execute_result",
          "data": {
            "text/plain": [
              "[('only', 1),\n",
              " ('very', 1),\n",
              " ('amounts', 1),\n",
              " ('mixed', 1),\n",
              " ('another', 1),\n",
              " ('anaesthetic', 1),\n",
              " ('finishing', 1),\n",
              " ('touch', 1),\n",
              " ('step-by-step', 1),\n",
              " ('procedure', 1),\n",
              " ('This', 1),\n",
              " ('technique', 1),\n",
              " ('tailored', 1),\n",
              " ('individual', 1),\n",
              " ('employs', 1),\n",
              " ('series', 1),\n",
              " ('designed', 1),\n",
              " ('achieve', 1),\n",
              " ('successively', 1),\n",
              " ('deeper', 1)]"
            ]
          },
          "metadata": {
            "tags": []
          },
          "execution_count": 28
        }
      ]
    },
    {
      "cell_type": "code",
      "metadata": {
        "id": "V3_x6v5vXx8v",
        "colab_type": "code",
        "colab": {
          "base_uri": "https://localhost:8080/",
          "height": 173
        },
        "outputId": "44f1a792-45ae-4580-a261-fe7cc37ad8ff"
      },
      "source": [
        "#listing out the words with freq greater than or equal to 5\n",
        "list(filter(lambda x: x[1]>=5,f_dist.items()))"
      ],
      "execution_count": 32,
      "outputs": [
        {
          "output_type": "execute_result",
          "data": {
            "text/plain": [
              "[('an', 5),\n",
              " ('of', 16),\n",
              " (',', 16),\n",
              " ('the', 16),\n",
              " ('a', 10),\n",
              " ('to', 5),\n",
              " ('.', 13),\n",
              " ('for', 6),\n",
              " ('that', 5)]"
            ]
          },
          "metadata": {
            "tags": []
          },
          "execution_count": 32
        }
      ]
    },
    {
      "cell_type": "code",
      "metadata": {
        "id": "B51diNoqYWW4",
        "colab_type": "code",
        "colab": {
          "base_uri": "https://localhost:8080/",
          "height": 1000
        },
        "outputId": "2f071298-9d8b-499f-e1ab-521b21072cff"
      },
      "source": [
        "#listing out the words with freq less than 2\n",
        "list(filter(lambda x: x[1]<2,f_dist.items()))"
      ],
      "execution_count": 36,
      "outputs": [
        {
          "output_type": "execute_result",
          "data": {
            "text/plain": [
              "[('age', 1),\n",
              " ('specialities', 1),\n",
              " ('specialist', 1),\n",
              " ('prevent', 1),\n",
              " ('suffering', 1),\n",
              " ('his', 1),\n",
              " ('concern', 1),\n",
              " ('been', 1),\n",
              " ('more', 1),\n",
              " ('than', 1),\n",
              " ('hundred', 1),\n",
              " ('years', 1),\n",
              " ('also', 1),\n",
              " ('brings', 1),\n",
              " ('swift', 1),\n",
              " ('relief', 1),\n",
              " ('accident', 1),\n",
              " ('victims', 1),\n",
              " ('treats', 1),\n",
              " ('ailments', 1),\n",
              " ('tract', 1),\n",
              " ('eases', 1),\n",
              " ('agony', 1),\n",
              " ('incurable', 1),\n",
              " ('diseases', 1),\n",
              " ('He', 1),\n",
              " ('draws', 1),\n",
              " ('on', 1),\n",
              " ('extensive', 1),\n",
              " ('range', 1),\n",
              " ('instruments', 1),\n",
              " (':', 1),\n",
              " ('machines', 1),\n",
              " ('temporarily', 1),\n",
              " ('substitute', 1),\n",
              " ('body', 1),\n",
              " ('organs', 1),\n",
              " ('gases', 1),\n",
              " ('induce', 1),\n",
              " ('dreamy', 1),\n",
              " ('doze', 1),\n",
              " ('unconsciousness', 1),\n",
              " ('tranquillizers', 1),\n",
              " ('banish', 1),\n",
              " ('fear', 1),\n",
              " ('injections', 1),\n",
              " ('block', 1),\n",
              " ('So', 1),\n",
              " ('precise', 1),\n",
              " ('control', 1),\n",
              " ('afforded', 1),\n",
              " ('new', 1),\n",
              " ('tools', 1),\n",
              " ('techniques', 1),\n",
              " ('effect', 1),\n",
              " ('suspend', 1),\n",
              " ('life', 1),\n",
              " ('hours', 1),\n",
              " ('at', 1),\n",
              " ('time', 1),\n",
              " ('making', 1),\n",
              " ('possible', 1),\n",
              " ('some', 1),\n",
              " ('dramatic', 1),\n",
              " ('achievements', 1),\n",
              " ('modern', 1),\n",
              " ('such', 1),\n",
              " ('repair', 1),\n",
              " ('damaged', 1),\n",
              " ('heart', 1),\n",
              " ('replacement', 1),\n",
              " ('diseased', 1),\n",
              " ('kidney', 1),\n",
              " ('1842', 1),\n",
              " ('American', 1),\n",
              " ('physician', 1),\n",
              " ('named', 1),\n",
              " ('Crawford', 1),\n",
              " ('made', 1),\n",
              " ('history', 1),\n",
              " ('when', 1),\n",
              " ('held', 1),\n",
              " ('ether-soaked', 1),\n",
              " ('towel', 1),\n",
              " ('over', 1),\n",
              " (\"'s\", 1),\n",
              " ('face', 1),\n",
              " ('until', 1),\n",
              " ('unconscious', 1),\n",
              " ('Then', 1),\n",
              " ('Dr', 1),\n",
              " ('removed', 1),\n",
              " ('neck', 1),\n",
              " ('tumour', 1),\n",
              " ('experienced', 1),\n",
              " ('no', 1),\n",
              " ('It', 1),\n",
              " ('successful', 1),\n",
              " ('surgical', 1),\n",
              " ('Today', 1),\n",
              " ('ether-obtained', 1),\n",
              " ('distilling', 1),\n",
              " ('ethylene', 1),\n",
              " ('sulphuric', 1),\n",
              " ('acid', 1),\n",
              " ('--', 1),\n",
              " ('remains', 1),\n",
              " ('effective', 1),\n",
              " ('relaxed', 1),\n",
              " ('required', 1),\n",
              " ('major', 1),\n",
              " ('But', 1),\n",
              " ('unpleasant', 1),\n",
              " ('nauseating', 1),\n",
              " ('odour', 1),\n",
              " ('irritates', 1),\n",
              " ('system', 1),\n",
              " ('dangerous', 1),\n",
              " ('because', 1),\n",
              " ('its', 1),\n",
              " ('explosive', 1),\n",
              " ('nature', 1),\n",
              " ('method', 1),\n",
              " ('overcoming', 1),\n",
              " ('drawbacks', 1),\n",
              " ('anaesthesiologists', 1),\n",
              " ('only', 1),\n",
              " ('very', 1),\n",
              " ('amounts', 1),\n",
              " ('mixed', 1),\n",
              " ('another', 1),\n",
              " ('anaesthetic', 1),\n",
              " ('finishing', 1),\n",
              " ('touch', 1),\n",
              " ('step-by-step', 1),\n",
              " ('procedure', 1),\n",
              " ('This', 1),\n",
              " ('technique', 1),\n",
              " ('tailored', 1),\n",
              " ('individual', 1),\n",
              " ('employs', 1),\n",
              " ('series', 1),\n",
              " ('designed', 1),\n",
              " ('achieve', 1),\n",
              " ('successively', 1),\n",
              " ('deeper', 1)]"
            ]
          },
          "metadata": {
            "tags": []
          },
          "execution_count": 36
        }
      ]
    }
  ]
}